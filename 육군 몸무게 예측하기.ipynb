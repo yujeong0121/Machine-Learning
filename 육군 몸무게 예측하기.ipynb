{
 "cells": [
  {
   "cell_type": "code",
   "execution_count": 1,
   "id": "e38779a8",
   "metadata": {
    "ExecuteTime": {
     "end_time": "2022-01-04T15:33:41.183810Z",
     "start_time": "2022-01-04T15:33:40.368989Z"
    }
   },
   "outputs": [],
   "source": [
    "import pandas as pd"
   ]
  },
  {
   "cell_type": "code",
   "execution_count": 2,
   "id": "e363398e",
   "metadata": {
    "ExecuteTime": {
     "end_time": "2022-01-04T15:33:41.438129Z",
     "start_time": "2022-01-04T15:33:41.200764Z"
    }
   },
   "outputs": [
    {
     "name": "stderr",
     "output_type": "stream",
     "text": [
      "C:\\Users\\skygg\\anaconda3\\envs\\py38_test2\\lib\\site-packages\\IPython\\core\\interactiveshell.py:3444: DtypeWarning: Columns (5) have mixed types.Specify dtype option on import or set low_memory=False.\n",
      "  exec(code_obj, self.user_global_ns, self.user_ns)\n"
     ]
    }
   ],
   "source": [
    "df = pd.read_csv('육군신체측정정보.csv', encoding = 'cp949' )"
   ]
  },
  {
   "cell_type": "code",
   "execution_count": 3,
   "id": "d4482812",
   "metadata": {
    "ExecuteTime": {
     "end_time": "2022-01-04T15:33:41.572769Z",
     "start_time": "2022-01-04T15:33:41.536866Z"
    }
   },
   "outputs": [
    {
     "data": {
      "text/html": [
       "<div>\n",
       "<style scoped>\n",
       "    .dataframe tbody tr th:only-of-type {\n",
       "        vertical-align: middle;\n",
       "    }\n",
       "\n",
       "    .dataframe tbody tr th {\n",
       "        vertical-align: top;\n",
       "    }\n",
       "\n",
       "    .dataframe thead th {\n",
       "        text-align: right;\n",
       "    }\n",
       "</style>\n",
       "<table border=\"1\" class=\"dataframe\">\n",
       "  <thead>\n",
       "    <tr style=\"text-align: right;\">\n",
       "      <th></th>\n",
       "      <th>순번</th>\n",
       "      <th>측정 일자</th>\n",
       "      <th>가슴 둘레 센티미터</th>\n",
       "      <th>소매길이 센티미터</th>\n",
       "      <th>신장 센티미터</th>\n",
       "      <th>허리 둘레 센티미터</th>\n",
       "      <th>샅높이 센티미터</th>\n",
       "      <th>머리 둘레 센티미터</th>\n",
       "      <th>발 길이 센티미터</th>\n",
       "      <th>몸무게 킬로그램</th>\n",
       "    </tr>\n",
       "  </thead>\n",
       "  <tbody>\n",
       "    <tr>\n",
       "      <th>0</th>\n",
       "      <td>1</td>\n",
       "      <td>20140106</td>\n",
       "      <td>96.3</td>\n",
       "      <td>92.6</td>\n",
       "      <td>185.5</td>\n",
       "      <td>82.5</td>\n",
       "      <td>83.8</td>\n",
       "      <td>57.1</td>\n",
       "      <td>28.5</td>\n",
       "      <td>73.2</td>\n",
       "    </tr>\n",
       "    <tr>\n",
       "      <th>1</th>\n",
       "      <td>2</td>\n",
       "      <td>2013</td>\n",
       "      <td>101.9</td>\n",
       "      <td>83.8</td>\n",
       "      <td>167.2</td>\n",
       "      <td>81.2</td>\n",
       "      <td>74.4</td>\n",
       "      <td>55.0</td>\n",
       "      <td>24.2</td>\n",
       "      <td>65.1</td>\n",
       "    </tr>\n",
       "    <tr>\n",
       "      <th>2</th>\n",
       "      <td>3</td>\n",
       "      <td>20140106</td>\n",
       "      <td>99.5</td>\n",
       "      <td>89.6</td>\n",
       "      <td>179.9</td>\n",
       "      <td>99.2</td>\n",
       "      <td>84.2</td>\n",
       "      <td>56.3</td>\n",
       "      <td>28.1</td>\n",
       "      <td>93.2</td>\n",
       "    </tr>\n",
       "    <tr>\n",
       "      <th>3</th>\n",
       "      <td>4</td>\n",
       "      <td>2013</td>\n",
       "      <td>98.6</td>\n",
       "      <td>85.5</td>\n",
       "      <td>171.4</td>\n",
       "      <td>85.9</td>\n",
       "      <td>76.4</td>\n",
       "      <td>54.5</td>\n",
       "      <td>27.4</td>\n",
       "      <td>71.6</td>\n",
       "    </tr>\n",
       "    <tr>\n",
       "      <th>4</th>\n",
       "      <td>5</td>\n",
       "      <td>20140106</td>\n",
       "      <td>94.7</td>\n",
       "      <td>88.1</td>\n",
       "      <td>176.9</td>\n",
       "      <td>78.3</td>\n",
       "      <td>79.7</td>\n",
       "      <td>58.5</td>\n",
       "      <td>26.5</td>\n",
       "      <td>67.1</td>\n",
       "    </tr>\n",
       "  </tbody>\n",
       "</table>\n",
       "</div>"
      ],
      "text/plain": [
       "   순번     측정 일자  가슴 둘레 센티미터  소매길이 센티미터  신장 센티미터 허리 둘레 센티미터  샅높이 센티미터  \\\n",
       "0   1  20140106        96.3       92.6    185.5       82.5      83.8   \n",
       "1   2      2013       101.9       83.8    167.2       81.2      74.4   \n",
       "2   3  20140106        99.5       89.6    179.9       99.2      84.2   \n",
       "3   4      2013        98.6       85.5    171.4       85.9      76.4   \n",
       "4   5  20140106        94.7       88.1    176.9       78.3      79.7   \n",
       "\n",
       "   머리 둘레 센티미터  발 길이 센티미터  몸무게 킬로그램  \n",
       "0        57.1       28.5      73.2  \n",
       "1        55.0       24.2      65.1  \n",
       "2        56.3       28.1      93.2  \n",
       "3        54.5       27.4      71.6  \n",
       "4        58.5       26.5      67.1  "
      ]
     },
     "execution_count": 3,
     "metadata": {},
     "output_type": "execute_result"
    }
   ],
   "source": [
    "df.head()"
   ]
  },
  {
   "cell_type": "code",
   "execution_count": 4,
   "id": "4130c780",
   "metadata": {
    "ExecuteTime": {
     "end_time": "2022-01-04T15:33:42.036529Z",
     "start_time": "2022-01-04T15:33:42.013590Z"
    }
   },
   "outputs": [
    {
     "data": {
      "text/html": [
       "<div>\n",
       "<style scoped>\n",
       "    .dataframe tbody tr th:only-of-type {\n",
       "        vertical-align: middle;\n",
       "    }\n",
       "\n",
       "    .dataframe tbody tr th {\n",
       "        vertical-align: top;\n",
       "    }\n",
       "\n",
       "    .dataframe thead th {\n",
       "        text-align: right;\n",
       "    }\n",
       "</style>\n",
       "<table border=\"1\" class=\"dataframe\">\n",
       "  <thead>\n",
       "    <tr style=\"text-align: right;\">\n",
       "      <th></th>\n",
       "      <th>순번</th>\n",
       "      <th>측정 일자</th>\n",
       "      <th>가슴 둘레 센티미터</th>\n",
       "      <th>소매길이 센티미터</th>\n",
       "      <th>신장 센티미터</th>\n",
       "      <th>허리 둘레 센티미터</th>\n",
       "      <th>샅높이 센티미터</th>\n",
       "      <th>머리 둘레 센티미터</th>\n",
       "      <th>발 길이 센티미터</th>\n",
       "      <th>몸무게 킬로그램</th>\n",
       "    </tr>\n",
       "  </thead>\n",
       "  <tbody>\n",
       "    <tr>\n",
       "      <th>167975</th>\n",
       "      <td>167979</td>\n",
       "      <td>20170131</td>\n",
       "      <td>100.6</td>\n",
       "      <td>86.4</td>\n",
       "      <td>173.2</td>\n",
       "      <td>86.7 (34.1 in)</td>\n",
       "      <td>77.1</td>\n",
       "      <td>56.9</td>\n",
       "      <td>27.1</td>\n",
       "      <td>73.7</td>\n",
       "    </tr>\n",
       "    <tr>\n",
       "      <th>167976</th>\n",
       "      <td>167980</td>\n",
       "      <td>20170131</td>\n",
       "      <td>97.9</td>\n",
       "      <td>82.7</td>\n",
       "      <td>166.3</td>\n",
       "      <td>90.5 (35.6 in)</td>\n",
       "      <td>73.4</td>\n",
       "      <td>61.5</td>\n",
       "      <td>28.8</td>\n",
       "      <td>70.7</td>\n",
       "    </tr>\n",
       "    <tr>\n",
       "      <th>167977</th>\n",
       "      <td>167981</td>\n",
       "      <td>20170131</td>\n",
       "      <td>97.9</td>\n",
       "      <td>87.2</td>\n",
       "      <td>175.2</td>\n",
       "      <td>94.3 (37.1 in)</td>\n",
       "      <td>83.1</td>\n",
       "      <td>57.1</td>\n",
       "      <td>27.6</td>\n",
       "      <td>78.7</td>\n",
       "    </tr>\n",
       "    <tr>\n",
       "      <th>167978</th>\n",
       "      <td>167982</td>\n",
       "      <td>20170131</td>\n",
       "      <td>85.3</td>\n",
       "      <td>86.8</td>\n",
       "      <td>173.6</td>\n",
       "      <td>75.9 (29.9 in)</td>\n",
       "      <td>76.6</td>\n",
       "      <td>57.6</td>\n",
       "      <td>24.3</td>\n",
       "      <td>57.4</td>\n",
       "    </tr>\n",
       "    <tr>\n",
       "      <th>167979</th>\n",
       "      <td>167983</td>\n",
       "      <td>20170131</td>\n",
       "      <td>86.6</td>\n",
       "      <td>88.3</td>\n",
       "      <td>175.8</td>\n",
       "      <td>73.0 (28.7 in)</td>\n",
       "      <td>77.8</td>\n",
       "      <td>56.3</td>\n",
       "      <td>26.1</td>\n",
       "      <td>51.7</td>\n",
       "    </tr>\n",
       "  </tbody>\n",
       "</table>\n",
       "</div>"
      ],
      "text/plain": [
       "            순번     측정 일자  가슴 둘레 센티미터  소매길이 센티미터  신장 센티미터      허리 둘레 센티미터  \\\n",
       "167975  167979  20170131       100.6       86.4    173.2  86.7 (34.1 in)   \n",
       "167976  167980  20170131        97.9       82.7    166.3  90.5 (35.6 in)   \n",
       "167977  167981  20170131        97.9       87.2    175.2  94.3 (37.1 in)   \n",
       "167978  167982  20170131        85.3       86.8    173.6  75.9 (29.9 in)   \n",
       "167979  167983  20170131        86.6       88.3    175.8  73.0 (28.7 in)   \n",
       "\n",
       "        샅높이 센티미터  머리 둘레 센티미터  발 길이 센티미터  몸무게 킬로그램  \n",
       "167975      77.1        56.9       27.1      73.7  \n",
       "167976      73.4        61.5       28.8      70.7  \n",
       "167977      83.1        57.1       27.6      78.7  \n",
       "167978      76.6        57.6       24.3      57.4  \n",
       "167979      77.8        56.3       26.1      51.7  "
      ]
     },
     "execution_count": 4,
     "metadata": {},
     "output_type": "execute_result"
    }
   ],
   "source": [
    "df.tail()"
   ]
  },
  {
   "cell_type": "code",
   "execution_count": 5,
   "id": "f66d3631",
   "metadata": {
    "ExecuteTime": {
     "end_time": "2022-01-04T15:33:42.231009Z",
     "start_time": "2022-01-04T15:33:42.195105Z"
    }
   },
   "outputs": [
    {
     "name": "stdout",
     "output_type": "stream",
     "text": [
      "<class 'pandas.core.frame.DataFrame'>\n",
      "RangeIndex: 167980 entries, 0 to 167979\n",
      "Data columns (total 10 columns):\n",
      " #   Column      Non-Null Count   Dtype  \n",
      "---  ------      --------------   -----  \n",
      " 0   순번          167980 non-null  int64  \n",
      " 1   측정 일자       167980 non-null  int64  \n",
      " 2   가슴 둘레 센티미터  167980 non-null  float64\n",
      " 3   소매길이 센티미터   167980 non-null  float64\n",
      " 4   신장 센티미터     167980 non-null  float64\n",
      " 5   허리 둘레 센티미터  167980 non-null  object \n",
      " 6   샅높이 센티미터    167980 non-null  float64\n",
      " 7   머리 둘레 센티미터  167980 non-null  float64\n",
      " 8   발 길이 센티미터   167980 non-null  float64\n",
      " 9   몸무게 킬로그램    167980 non-null  float64\n",
      "dtypes: float64(7), int64(2), object(1)\n",
      "memory usage: 12.8+ MB\n"
     ]
    }
   ],
   "source": [
    "df.info()"
   ]
  },
  {
   "cell_type": "code",
   "execution_count": 6,
   "id": "a4f8e653",
   "metadata": {
    "ExecuteTime": {
     "end_time": "2022-01-04T15:33:43.472688Z",
     "start_time": "2022-01-04T15:33:43.442768Z"
    }
   },
   "outputs": [
    {
     "data": {
      "text/plain": [
       "순번            0\n",
       "측정 일자         0\n",
       "가슴 둘레 센티미터    0\n",
       "소매길이 센티미터     0\n",
       "신장 센티미터       0\n",
       "허리 둘레 센티미터    0\n",
       "샅높이 센티미터      0\n",
       "머리 둘레 센티미터    0\n",
       "발 길이 센티미터     0\n",
       "몸무게 킬로그램      0\n",
       "dtype: int64"
      ]
     },
     "execution_count": 6,
     "metadata": {},
     "output_type": "execute_result"
    }
   ],
   "source": [
    "df.isnull().sum()"
   ]
  },
  {
   "cell_type": "code",
   "execution_count": 7,
   "id": "4c1731e5",
   "metadata": {
    "ExecuteTime": {
     "end_time": "2022-01-04T15:33:43.891567Z",
     "start_time": "2022-01-04T15:33:43.881594Z"
    }
   },
   "outputs": [],
   "source": [
    "df.rename(columns = {'순번':'splt','측정 일자':'day','가슴 둘레 센티미터':'chest','소매길이 센티미터':'arm', '신장 센티미터':'height', '허리 둘레 센티미터':'waist', '샅높이 센티미터':'sat', '머리 둘레 센티미터':'head','발 길이 센티미터':'feet', '몸무게 킬로그램':'weight'}, inplace = True) "
   ]
  },
  {
   "cell_type": "code",
   "execution_count": 8,
   "id": "011d1e12",
   "metadata": {
    "ExecuteTime": {
     "end_time": "2022-01-04T15:33:44.564767Z",
     "start_time": "2022-01-04T15:33:44.546815Z"
    }
   },
   "outputs": [],
   "source": [
    "df= df[['arm', 'height','weight']]"
   ]
  },
  {
   "cell_type": "code",
   "execution_count": 9,
   "id": "1f06db20",
   "metadata": {
    "ExecuteTime": {
     "end_time": "2022-01-04T15:33:45.059444Z",
     "start_time": "2022-01-04T15:33:45.030521Z"
    }
   },
   "outputs": [],
   "source": [
    "# 피처 스케일링\n",
    "mean = df.mean(axis=0)\n",
    "df -= mean\n",
    "std =df.std(axis=0)\n",
    "df /= std"
   ]
  },
  {
   "cell_type": "code",
   "execution_count": 10,
   "id": "1bf77b4e",
   "metadata": {
    "ExecuteTime": {
     "end_time": "2022-01-04T15:33:46.495603Z",
     "start_time": "2022-01-04T15:33:46.480643Z"
    }
   },
   "outputs": [
    {
     "name": "stdout",
     "output_type": "stream",
     "text": [
      "        arm    height    weight\n",
      "0  1.933555  1.983913  0.076028\n",
      "1 -1.281644 -1.374604 -0.513410\n",
      "2  0.837465  0.956170  1.531430\n",
      "3 -0.660526 -0.603797 -0.040404\n",
      "4  0.289419  0.405594 -0.367870\n"
     ]
    }
   ],
   "source": [
    "print(df.head())"
   ]
  },
  {
   "cell_type": "code",
   "execution_count": 11,
   "id": "5fffbd4f",
   "metadata": {
    "ExecuteTime": {
     "end_time": "2022-01-04T15:33:46.675122Z",
     "start_time": "2022-01-04T15:33:46.664152Z"
    }
   },
   "outputs": [
    {
     "name": "stdout",
     "output_type": "stream",
     "text": [
      "[ 0.07602772 -0.5134101   1.53142973 -0.04040444 -0.3678699 ]\n"
     ]
    }
   ],
   "source": [
    "y_train = df['weight'].values\n",
    "print(y_train[0:5])"
   ]
  },
  {
   "cell_type": "code",
   "execution_count": 12,
   "id": "57e88680",
   "metadata": {
    "ExecuteTime": {
     "end_time": "2022-01-04T15:33:58.210270Z",
     "start_time": "2022-01-04T15:33:46.828711Z"
    }
   },
   "outputs": [
    {
     "name": "stdout",
     "output_type": "stream",
     "text": [
      "[[1.9335554861189321, 1.983912665023129], [-1.2816443841502068, -1.3746035036607636], [0.8374646212544525, 0.9561700123111199], [-0.6605262273936674, -0.6037965141267528], [0.2894191888222128, 0.40559359121540006]]\n"
     ]
    }
   ],
   "source": [
    "x_train = []\n",
    "\n",
    "for i, rows in df.iterrows():\n",
    "    x_train.append([rows['arm'], rows['height']])\n",
    "       \n",
    "print(x_train[0:5])"
   ]
  },
  {
   "cell_type": "code",
   "execution_count": 13,
   "id": "e14ed036",
   "metadata": {
    "ExecuteTime": {
     "end_time": "2022-01-04T15:34:06.557942Z",
     "start_time": "2022-01-04T15:33:58.646104Z"
    }
   },
   "outputs": [],
   "source": [
    "from tensorflow import keras\n",
    "import numpy as np\n",
    "\n",
    "model = keras.Sequential([\n",
    "    keras.layers.Dense(2),\n",
    "    keras.layers.Dense(256, activation = 'relu'),\n",
    "    keras.layers.Dense(256, activation = 'relu'),\n",
    "    keras.layers.Dense(1,activation = 'sigmoid' )\n",
    "])"
   ]
  },
  {
   "cell_type": "code",
   "execution_count": 14,
   "id": "95563c91",
   "metadata": {
    "ExecuteTime": {
     "end_time": "2022-01-04T15:34:07.006743Z",
     "start_time": "2022-01-04T15:34:06.993777Z"
    }
   },
   "outputs": [],
   "source": [
    "model.compile(optimizer='adam', loss= \"mse\", metrics = ['mae'] )"
   ]
  },
  {
   "cell_type": "code",
   "execution_count": 15,
   "id": "f784643f",
   "metadata": {
    "ExecuteTime": {
     "end_time": "2022-01-04T15:36:40.435900Z",
     "start_time": "2022-01-04T15:34:07.442577Z"
    }
   },
   "outputs": [
    {
     "name": "stdout",
     "output_type": "stream",
     "text": [
      "Epoch 1/20\n",
      "5250/5250 [==============================] - 8s 1ms/step - loss: 0.9166 - mae: 0.7785\n",
      "Epoch 2/20\n",
      "5250/5250 [==============================] - 7s 1ms/step - loss: 0.9150 - mae: 0.7778\n",
      "Epoch 3/20\n",
      "5250/5250 [==============================] - 7s 1ms/step - loss: 0.9147 - mae: 0.7775\n",
      "Epoch 4/20\n",
      "5250/5250 [==============================] - 7s 1ms/step - loss: 0.9146 - mae: 0.7775\n",
      "Epoch 5/20\n",
      "5250/5250 [==============================] - 7s 1ms/step - loss: 0.9146 - mae: 0.7774\n",
      "Epoch 6/20\n",
      "5250/5250 [==============================] - 7s 1ms/step - loss: 0.9144 - mae: 0.7774\n",
      "Epoch 7/20\n",
      "5250/5250 [==============================] - 8s 1ms/step - loss: 0.9145 - mae: 0.7775\n",
      "Epoch 8/20\n",
      "5250/5250 [==============================] - 8s 2ms/step - loss: 0.9144 - mae: 0.7773\n",
      "Epoch 9/20\n",
      "5250/5250 [==============================] - 8s 2ms/step - loss: 0.9144 - mae: 0.7776\n",
      "Epoch 10/20\n",
      "5250/5250 [==============================] - 8s 2ms/step - loss: 0.9143 - mae: 0.7773\n",
      "Epoch 11/20\n",
      "5250/5250 [==============================] - 8s 2ms/step - loss: 0.9142 - mae: 0.7775\n",
      "Epoch 12/20\n",
      "5250/5250 [==============================] - 7s 1ms/step - loss: 0.9143 - mae: 0.7773\n",
      "Epoch 13/20\n",
      "5250/5250 [==============================] - 7s 1ms/step - loss: 0.9143 - mae: 0.7773\n",
      "Epoch 14/20\n",
      "5250/5250 [==============================] - 8s 1ms/step - loss: 0.9143 - mae: 0.7771\n",
      "Epoch 15/20\n",
      "5250/5250 [==============================] - 8s 1ms/step - loss: 0.9141 - mae: 0.7773\n",
      "Epoch 16/20\n",
      "5250/5250 [==============================] - 8s 2ms/step - loss: 0.9142 - mae: 0.7774\n",
      "Epoch 17/20\n",
      "5250/5250 [==============================] - 8s 1ms/step - loss: 0.9142 - mae: 0.7773\n",
      "Epoch 18/20\n",
      "5250/5250 [==============================] - 8s 1ms/step - loss: 0.9142 - mae: 0.7774\n",
      "Epoch 19/20\n",
      "5250/5250 [==============================] - 8s 1ms/step - loss: 0.9141 - mae: 0.7773\n",
      "Epoch 20/20\n",
      "5250/5250 [==============================] - 8s 2ms/step - loss: 0.9141 - mae: 0.7773\n"
     ]
    },
    {
     "data": {
      "text/plain": [
       "<keras.callbacks.History at 0x206a7a5e9d0>"
      ]
     },
     "execution_count": 15,
     "metadata": {},
     "output_type": "execute_result"
    }
   ],
   "source": [
    "model.fit(np.array(x_train), np.array(y_train), epochs = 20)"
   ]
  },
  {
   "cell_type": "code",
   "execution_count": 19,
   "id": "695cbe33",
   "metadata": {
    "ExecuteTime": {
     "end_time": "2022-01-04T15:41:31.358806Z",
     "start_time": "2022-01-04T15:41:26.196613Z"
    }
   },
   "outputs": [
    {
     "name": "stdout",
     "output_type": "stream",
     "text": [
      "5250/5250 [==============================] - 5s 917us/step - loss: 0.9141 - mae: 0.7771\n"
     ]
    },
    {
     "data": {
      "text/plain": [
       "[0.9141038656234741, 0.7771177887916565]"
      ]
     },
     "execution_count": 19,
     "metadata": {},
     "output_type": "execute_result"
    }
   ],
   "source": [
    "model.evaluate(np.array(x_train), np.array(y_train))"
   ]
  },
  {
   "cell_type": "code",
   "execution_count": 52,
   "id": "91d511e6",
   "metadata": {
    "ExecuteTime": {
     "end_time": "2021-12-24T08:16:00.779526Z",
     "start_time": "2021-12-24T08:16:00.765564Z"
    }
   },
   "outputs": [
    {
     "name": "stdout",
     "output_type": "stream",
     "text": [
      "Model: \"sequential_2\"\n",
      "_________________________________________________________________\n",
      " Layer (type)                Output Shape              Param #   \n",
      "=================================================================\n",
      " dense_8 (Dense)             (None, 2)                 6         \n",
      "                                                                 \n",
      " dense_9 (Dense)             (None, 256)               768       \n",
      "                                                                 \n",
      " dense_10 (Dense)            (None, 256)               65792     \n",
      "                                                                 \n",
      " dense_11 (Dense)            (None, 1)                 257       \n",
      "                                                                 \n",
      "=================================================================\n",
      "Total params: 66,823\n",
      "Trainable params: 66,823\n",
      "Non-trainable params: 0\n",
      "_________________________________________________________________\n"
     ]
    }
   ],
   "source": [
    "model.summary()"
   ]
  },
  {
   "cell_type": "code",
   "execution_count": 53,
   "id": "c28b4caf",
   "metadata": {
    "ExecuteTime": {
     "end_time": "2021-12-24T08:16:17.363140Z",
     "start_time": "2021-12-24T08:16:16.235630Z"
    }
   },
   "outputs": [
    {
     "data": {
      "image/png": "[encoded data removed]",
      "text/plain": [
       "<IPython.core.display.Image object>"
      ]
     },
     "execution_count": 53,
     "metadata": {},
     "output_type": "execute_result"
    }
   ],
   "source": [
    "from tensorflow.keras.utils import plot_model\n",
    "plot_model(model, show_shapes=True)"
   ]
  },
  {
   "cell_type": "code",
   "execution_count": null,
   "id": "ca8190c4",
   "metadata": {},
   "outputs": [],
   "source": []
  }
 ],
 "metadata": {
  "kernelspec": {
   "display_name": "Python 3 (ipykernel)",
   "language": "python",
   "name": "python3"
  },
  "language_info": {
   "codemirror_mode": {
    "name": "ipython",
    "version": 3
   },
   "file_extension": ".py",
   "mimetype": "text/x-python",
   "name": "python",
   "nbconvert_exporter": "python",
   "pygments_lexer": "ipython3",
   "version": "3.8.12"
  },
  "toc": {
   "base_numbering": 1,
   "nav_menu": {},
   "number_sections": true,
   "sideBar": true,
   "skip_h1_title": false,
   "title_cell": "Table of Contents",
   "title_sidebar": "Contents",
   "toc_cell": false,
   "toc_position": {},
   "toc_section_display": true,
   "toc_window_display": false
  },
  "varInspector": {
   "cols": {
    "lenName": 16,
    "lenType": 16,
    "lenVar": 40
   },
   "kernels_config": {
    "python": {
     "delete_cmd_postfix": "",
     "delete_cmd_prefix": "del ",
     "library": "var_list.py",
     "varRefreshCmd": "print(var_dic_list())"
    },
    "r": {
     "delete_cmd_postfix": ") ",
     "delete_cmd_prefix": "rm(",
     "library": "var_list.r",
     "varRefreshCmd": "cat(var_dic_list()) "
    }
   },
   "types_to_exclude": [
    "module",
    "function",
    "builtin_function_or_method",
    "instance",
    "_Feature"
   ],
   "window_display": false
  }
 },
 "nbformat": 4,
 "nbformat_minor": 5
}
