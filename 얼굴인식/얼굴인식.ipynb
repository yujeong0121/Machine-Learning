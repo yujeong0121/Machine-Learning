{
 "cells": [
  {
   "cell_type": "code",
   "execution_count": 1,
   "id": "bc1568f1",
   "metadata": {},
   "outputs": [
    {
     "name": "stdout",
     "output_type": "stream",
     "text": [
      "237 14 220 220\n",
      "242 26 216 216\n",
      "12 303 154 154\n",
      "237 16 224 224\n",
      "259 19 220 220\n",
      "261 15 230 230\n",
      "256 12 239 239\n",
      "12 303 156 156\n",
      "260 14 236 236\n",
      "265 23 226 226\n",
      "263 14 236 236\n",
      "262 16 234 234\n",
      "262 14 235 235\n",
      "262 18 228 228\n",
      "259 14 237 237\n",
      "260 17 231 231\n",
      "259 16 229 229\n",
      "258 15 236 236\n",
      "259 14 235 235\n",
      "258 15 236 236\n",
      "262 18 225 225\n",
      "260 17 230 230\n",
      "259 19 227 227\n",
      "260 17 226 226\n",
      "260 16 230 230\n",
      "258 16 234 234\n",
      "257 16 231 231\n",
      "264 23 218 218\n",
      "259 16 233 233\n",
      "258 15 230 230\n",
      "258 16 225 225\n",
      "255 12 228 228\n",
      "252 9 236 236\n"
     ]
    }
   ],
   "source": [
    "import numpy as np\n",
    "import cv2\n",
    "\n",
    "face_cascade = cv2.CascadeClassifier('haarcascade_frontalface_alt2.xml') # 기학습된 얼굴인식 파일\n",
    "eye_cascade = cv2.CascadeClassifier(cv2.data.haarcascades + 'haarcascade_eye.xml')\n",
    "cap = cv2.VideoCapture(0)\n",
    "\n",
    "while(True):\n",
    "    \n",
    "    ret, frame = cap.read()\n",
    "    # 그레이스케일로 바꿔줘야 컴퓨터가 연산하기 쉬움\n",
    "    gray  = cv2.cvtColor(frame, cv2.COLOR_BGR2GRAY)\n",
    "    # 얼굴 찾기\n",
    "    # 스케일팩터를 1에 가깝게 해주면 정확도가 상승하나 시간이 오래걸림\n",
    "    # minNeighbors 높여주면 검출율이 상승하나 오탐지율도 상승\n",
    "    faces = face_cascade.detectMultiScale(gray, scaleFactor=1.1, minNeighbors=5)\n",
    "    \n",
    "    # 얼굴 영역에 직사각형 그리기\n",
    "    for (x, y, w, h) in faces:\n",
    "        cv2.rectangle(frame, (x, y), (x + w, y + h), (255,0,0), 2)\n",
    "        \n",
    "        # 눈 찾기\n",
    "        roi_color = frame[y:y+h, x:x+w]\n",
    "        roi_gray = gray[y:y+h, x:x+w]\n",
    "        eyes = eye_cascade.detectMultiScale(roi_gray)\n",
    "        \n",
    "        #  이미지 피라미드 규모인자 크기(Scale Factor)\n",
    "        # 최종 검출영역 확정용 이웃 사각형의 갯수 설정\n",
    "        for (ex, ey, ew, eh) in eyes:\n",
    "            cv2.rectangle(roi_color, (ex, ey), (ex+ew, ey+eh), (0, 255, 0), 2)\n",
    "\n",
    "        img_item = 'my-image.png'\n",
    "        cv2.imwrite(img_item, roi_gray)\n",
    "        print(x, y, w, h )\n",
    "        \n",
    "      #결과 보여주기\n",
    "    cv2.imshow('frame',frame)\n",
    "    \n",
    "    if cv2.waitKey(20) & 0xFF == ord('q'):\n",
    "        break\n",
    "\n",
    "# 카메라 해제\n",
    "cap.release()\n",
    "cv2.destroyAllWindows()"
   ]
  },
  {
   "cell_type": "code",
   "execution_count": null,
   "id": "9b2fb17e",
   "metadata": {},
   "outputs": [],
   "source": []
  }
 ],
 "metadata": {
  "kernelspec": {
   "display_name": "Python 3 (ipykernel)",
   "language": "python",
   "name": "python3"
  },
  "language_info": {
   "codemirror_mode": {
    "name": "ipython",
    "version": 3
   },
   "file_extension": ".py",
   "mimetype": "text/x-python",
   "name": "python",
   "nbconvert_exporter": "python",
   "pygments_lexer": "ipython3",
   "version": "3.8.12"
  },
  "toc": {
   "base_numbering": 1,
   "nav_menu": {},
   "number_sections": true,
   "sideBar": true,
   "skip_h1_title": false,
   "title_cell": "Table of Contents",
   "title_sidebar": "Contents",
   "toc_cell": false,
   "toc_position": {},
   "toc_section_display": true,
   "toc_window_display": false
  },
  "varInspector": {
   "cols": {
    "lenName": 16,
    "lenType": 16,
    "lenVar": 40
   },
   "kernels_config": {
    "python": {
     "delete_cmd_postfix": "",
     "delete_cmd_prefix": "del ",
     "library": "var_list.py",
     "varRefreshCmd": "print(var_dic_list())"
    },
    "r": {
     "delete_cmd_postfix": ") ",
     "delete_cmd_prefix": "rm(",
     "library": "var_list.r",
     "varRefreshCmd": "cat(var_dic_list()) "
    }
   },
   "types_to_exclude": [
    "module",
    "function",
    "builtin_function_or_method",
    "instance",
    "_Feature"
   ],
   "window_display": false
  }
 },
 "nbformat": 4,
 "nbformat_minor": 5
}
