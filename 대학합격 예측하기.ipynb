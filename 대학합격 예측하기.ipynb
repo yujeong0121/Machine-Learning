{
 "cells": [
  {
   "cell_type": "code",
   "execution_count": 1,
   "id": "75df4c72",
   "metadata": {
    "ExecuteTime": {
     "end_time": "2022-01-25T01:49:33.675847Z",
     "start_time": "2022-01-25T01:49:13.952532Z"
    }
   },
   "outputs": [],
   "source": [
    "import numpy as np\n",
    "import pandas as pd\n",
    "import tensorflow as tf\n",
    "import matplotlib.pyplot as plt"
   ]
  },
  {
   "cell_type": "code",
   "execution_count": 2,
   "id": "0c1029b5",
   "metadata": {
    "ExecuteTime": {
     "end_time": "2022-01-25T01:49:33.706087Z",
     "start_time": "2022-01-25T01:49:33.693524Z"
    }
   },
   "outputs": [],
   "source": [
    "df = pd.read_csv(\"gpascore.csv\")"
   ]
  },
  {
   "cell_type": "code",
   "execution_count": 3,
   "id": "9dea5b7d",
   "metadata": {
    "ExecuteTime": {
     "end_time": "2022-01-25T01:49:35.626273Z",
     "start_time": "2022-01-25T01:49:35.595250Z"
    }
   },
   "outputs": [
    {
     "data": {
      "text/html": [
       "<div>\n",
       "<style scoped>\n",
       "    .dataframe tbody tr th:only-of-type {\n",
       "        vertical-align: middle;\n",
       "    }\n",
       "\n",
       "    .dataframe tbody tr th {\n",
       "        vertical-align: top;\n",
       "    }\n",
       "\n",
       "    .dataframe thead th {\n",
       "        text-align: right;\n",
       "    }\n",
       "</style>\n",
       "<table border=\"1\" class=\"dataframe\">\n",
       "  <thead>\n",
       "    <tr style=\"text-align: right;\">\n",
       "      <th></th>\n",
       "      <th>admit</th>\n",
       "      <th>gre</th>\n",
       "      <th>gpa</th>\n",
       "      <th>rank</th>\n",
       "    </tr>\n",
       "  </thead>\n",
       "  <tbody>\n",
       "    <tr>\n",
       "      <th>0</th>\n",
       "      <td>0</td>\n",
       "      <td>380.0</td>\n",
       "      <td>3.21</td>\n",
       "      <td>3</td>\n",
       "    </tr>\n",
       "    <tr>\n",
       "      <th>1</th>\n",
       "      <td>1</td>\n",
       "      <td>660.0</td>\n",
       "      <td>3.67</td>\n",
       "      <td>3</td>\n",
       "    </tr>\n",
       "    <tr>\n",
       "      <th>2</th>\n",
       "      <td>1</td>\n",
       "      <td>800.0</td>\n",
       "      <td>4.00</td>\n",
       "      <td>1</td>\n",
       "    </tr>\n",
       "    <tr>\n",
       "      <th>3</th>\n",
       "      <td>1</td>\n",
       "      <td>640.0</td>\n",
       "      <td>3.19</td>\n",
       "      <td>4</td>\n",
       "    </tr>\n",
       "    <tr>\n",
       "      <th>4</th>\n",
       "      <td>0</td>\n",
       "      <td>520.0</td>\n",
       "      <td>2.33</td>\n",
       "      <td>4</td>\n",
       "    </tr>\n",
       "  </tbody>\n",
       "</table>\n",
       "</div>"
      ],
      "text/plain": [
       "   admit    gre   gpa  rank\n",
       "0      0  380.0  3.21     3\n",
       "1      1  660.0  3.67     3\n",
       "2      1  800.0  4.00     1\n",
       "3      1  640.0  3.19     4\n",
       "4      0  520.0  2.33     4"
      ]
     },
     "execution_count": 3,
     "metadata": {},
     "output_type": "execute_result"
    }
   ],
   "source": [
    "df.head()"
   ]
  },
  {
   "cell_type": "code",
   "execution_count": 4,
   "id": "59971432",
   "metadata": {
    "ExecuteTime": {
     "end_time": "2022-01-25T01:49:37.405603Z",
     "start_time": "2022-01-25T01:49:37.393032Z"
    }
   },
   "outputs": [
    {
     "data": {
      "text/html": [
       "<div>\n",
       "<style scoped>\n",
       "    .dataframe tbody tr th:only-of-type {\n",
       "        vertical-align: middle;\n",
       "    }\n",
       "\n",
       "    .dataframe tbody tr th {\n",
       "        vertical-align: top;\n",
       "    }\n",
       "\n",
       "    .dataframe thead th {\n",
       "        text-align: right;\n",
       "    }\n",
       "</style>\n",
       "<table border=\"1\" class=\"dataframe\">\n",
       "  <thead>\n",
       "    <tr style=\"text-align: right;\">\n",
       "      <th></th>\n",
       "      <th>admit</th>\n",
       "      <th>gre</th>\n",
       "      <th>gpa</th>\n",
       "      <th>rank</th>\n",
       "    </tr>\n",
       "  </thead>\n",
       "  <tbody>\n",
       "    <tr>\n",
       "      <th>421</th>\n",
       "      <td>1</td>\n",
       "      <td>750.0</td>\n",
       "      <td>3.44</td>\n",
       "      <td>4</td>\n",
       "    </tr>\n",
       "    <tr>\n",
       "      <th>422</th>\n",
       "      <td>1</td>\n",
       "      <td>710.0</td>\n",
       "      <td>3.66</td>\n",
       "      <td>4</td>\n",
       "    </tr>\n",
       "    <tr>\n",
       "      <th>423</th>\n",
       "      <td>0</td>\n",
       "      <td>450.0</td>\n",
       "      <td>3.25</td>\n",
       "      <td>4</td>\n",
       "    </tr>\n",
       "    <tr>\n",
       "      <th>424</th>\n",
       "      <td>1</td>\n",
       "      <td>760.0</td>\n",
       "      <td>3.76</td>\n",
       "      <td>2</td>\n",
       "    </tr>\n",
       "    <tr>\n",
       "      <th>425</th>\n",
       "      <td>1</td>\n",
       "      <td>710.0</td>\n",
       "      <td>3.82</td>\n",
       "      <td>3</td>\n",
       "    </tr>\n",
       "  </tbody>\n",
       "</table>\n",
       "</div>"
      ],
      "text/plain": [
       "     admit    gre   gpa  rank\n",
       "421      1  750.0  3.44     4\n",
       "422      1  710.0  3.66     4\n",
       "423      0  450.0  3.25     4\n",
       "424      1  760.0  3.76     2\n",
       "425      1  710.0  3.82     3"
      ]
     },
     "execution_count": 4,
     "metadata": {},
     "output_type": "execute_result"
    }
   ],
   "source": [
    "df.tail()"
   ]
  },
  {
   "cell_type": "code",
   "execution_count": 5,
   "id": "129834c4",
   "metadata": {
    "ExecuteTime": {
     "end_time": "2022-01-25T01:49:37.935978Z",
     "start_time": "2022-01-25T01:49:37.928926Z"
    }
   },
   "outputs": [
    {
     "data": {
      "text/plain": [
       "admit    0\n",
       "gre      1\n",
       "gpa      0\n",
       "rank     0\n",
       "dtype: int64"
      ]
     },
     "execution_count": 5,
     "metadata": {},
     "output_type": "execute_result"
    }
   ],
   "source": [
    "df.isnull().sum()"
   ]
  },
  {
   "cell_type": "code",
   "execution_count": 6,
   "id": "251bffd5",
   "metadata": {
    "ExecuteTime": {
     "end_time": "2022-01-25T01:49:38.677407Z",
     "start_time": "2022-01-25T01:49:38.668650Z"
    }
   },
   "outputs": [],
   "source": [
    "df= df.dropna()"
   ]
  },
  {
   "cell_type": "code",
   "execution_count": 7,
   "id": "fae69dfd",
   "metadata": {
    "ExecuteTime": {
     "end_time": "2022-01-25T01:49:39.855178Z",
     "start_time": "2022-01-25T01:49:39.842191Z"
    }
   },
   "outputs": [
    {
     "data": {
      "text/plain": [
       "admit    0\n",
       "gre      0\n",
       "gpa      0\n",
       "rank     0\n",
       "dtype: int64"
      ]
     },
     "execution_count": 7,
     "metadata": {},
     "output_type": "execute_result"
    }
   ],
   "source": [
    "df.isnull().sum()"
   ]
  },
  {
   "cell_type": "code",
   "execution_count": 8,
   "id": "c58b2dd2",
   "metadata": {
    "ExecuteTime": {
     "end_time": "2022-01-25T01:49:40.385810Z",
     "start_time": "2022-01-25T01:49:40.372844Z"
    }
   },
   "outputs": [
    {
     "data": {
      "text/plain": [
       "800.0"
      ]
     },
     "execution_count": 8,
     "metadata": {},
     "output_type": "execute_result"
    }
   ],
   "source": [
    "df['gre'].max()"
   ]
  },
  {
   "cell_type": "code",
   "execution_count": 9,
   "id": "e4771b1a",
   "metadata": {
    "ExecuteTime": {
     "end_time": "2022-01-25T01:49:40.820204Z",
     "start_time": "2022-01-25T01:49:40.802225Z"
    }
   },
   "outputs": [],
   "source": [
    "df = df - np.min(df, axis=0) \n",
    "df = df / np.max(df, axis=0)"
   ]
  },
  {
   "cell_type": "code",
   "execution_count": 10,
   "id": "d4f99224",
   "metadata": {
    "ExecuteTime": {
     "end_time": "2022-01-25T01:49:41.954183Z",
     "start_time": "2022-01-25T01:49:41.940965Z"
    }
   },
   "outputs": [
    {
     "name": "stdout",
     "output_type": "stream",
     "text": [
      "     admit       gre       gpa      rank\n",
      "0      0.0  0.275862  0.579787  0.666667\n",
      "1      1.0  0.758621  0.824468  0.666667\n",
      "2      1.0  1.000000  1.000000  0.000000\n",
      "3      1.0  0.724138  0.569149  1.000000\n",
      "4      0.0  0.517241  0.111702  1.000000\n",
      "..     ...       ...       ...       ...\n",
      "421    1.0  0.913793  0.702128  1.000000\n",
      "422    1.0  0.844828  0.819149  1.000000\n",
      "423    0.0  0.396552  0.601064  1.000000\n",
      "424    1.0  0.931034  0.872340  0.333333\n",
      "425    1.0  0.844828  0.904255  0.666667\n",
      "\n",
      "[425 rows x 4 columns]\n"
     ]
    }
   ],
   "source": [
    "print(df)"
   ]
  },
  {
   "cell_type": "code",
   "execution_count": 11,
   "id": "c1300f86",
   "metadata": {
    "ExecuteTime": {
     "end_time": "2022-01-25T01:49:44.262356Z",
     "start_time": "2022-01-25T01:49:44.253166Z"
    }
   },
   "outputs": [
    {
     "data": {
      "text/plain": [
       "array([0., 1., 1., 1., 0.])"
      ]
     },
     "execution_count": 11,
     "metadata": {},
     "output_type": "execute_result"
    }
   ],
   "source": [
    "y = df['admit'].values\n",
    "y[0:5]"
   ]
  },
  {
   "cell_type": "code",
   "execution_count": 12,
   "id": "d4cc9768",
   "metadata": {
    "ExecuteTime": {
     "end_time": "2022-01-25T01:49:44.958548Z",
     "start_time": "2022-01-25T01:49:44.908991Z"
    }
   },
   "outputs": [],
   "source": [
    "x = []\n",
    "for i, rows in df.iterrows():\n",
    "    x.append([rows['gre'], rows['gpa'], rows['rank']])"
   ]
  },
  {
   "cell_type": "code",
   "execution_count": 25,
   "id": "52031dae",
   "metadata": {
    "ExecuteTime": {
     "end_time": "2022-01-25T01:55:12.256016Z",
     "start_time": "2022-01-25T01:55:12.242950Z"
    },
    "scrolled": true
   },
   "outputs": [],
   "source": [
    "# print(x)"
   ]
  },
  {
   "cell_type": "code",
   "execution_count": 17,
   "id": "83b1157d",
   "metadata": {
    "ExecuteTime": {
     "end_time": "2022-01-25T01:50:04.190859Z",
     "start_time": "2022-01-25T01:50:04.172542Z"
    }
   },
   "outputs": [],
   "source": [
    "x_train = x[:int(len(x) * 0.8)] #  # 전체 데이터 중에서 80%만큼 앞의 데이터 저장\n",
    "y_train = y[:int(len(y) * 0.8)]\n",
    "x_test = x[int(len(x)* 0.8):] # 전체 데이터 중에서 20%만큼 뒤의 데이터 저장\n",
    "y_test = y[int(len(y)*0.8):] "
   ]
  },
  {
   "cell_type": "code",
   "execution_count": 18,
   "id": "b6167a25",
   "metadata": {
    "ExecuteTime": {
     "end_time": "2022-01-25T01:50:05.067723Z",
     "start_time": "2022-01-25T01:50:05.043717Z"
    }
   },
   "outputs": [],
   "source": [
    "model = tf.keras.models.Sequential([\n",
    "    tf.keras.layers.Dense(3,activation = 'relu' ),\n",
    "    tf.keras.layers.Dense(128, activation = 'relu'),\n",
    "    tf.keras.layers.Dense(1, activation = 'sigmoid'),\n",
    "    \n",
    "])"
   ]
  },
  {
   "cell_type": "code",
   "execution_count": 19,
   "id": "1db9dc85",
   "metadata": {
    "ExecuteTime": {
     "end_time": "2022-01-25T01:50:05.988463Z",
     "start_time": "2022-01-25T01:50:05.978597Z"
    }
   },
   "outputs": [],
   "source": [
    "model.compile(optimizer = 'adam', loss = 'binary_crossentropy', metrics = ['accuracy'])"
   ]
  },
  {
   "cell_type": "code",
   "execution_count": 20,
   "id": "022b32e5",
   "metadata": {
    "ExecuteTime": {
     "end_time": "2022-01-25T01:50:09.113499Z",
     "start_time": "2022-01-25T01:50:07.514090Z"
    }
   },
   "outputs": [
    {
     "name": "stdout",
     "output_type": "stream",
     "text": [
      "Epoch 1/20\n",
      "11/11 [==============================] - 1s 28ms/step - loss: 0.6909 - accuracy: 0.6029 - val_loss: 0.6854 - val_accuracy: 0.6235\n",
      "Epoch 2/20\n",
      "11/11 [==============================] - 0s 3ms/step - loss: 0.6850 - accuracy: 0.6088 - val_loss: 0.6781 - val_accuracy: 0.5765\n",
      "Epoch 3/20\n",
      "11/11 [==============================] - 0s 3ms/step - loss: 0.6796 - accuracy: 0.6059 - val_loss: 0.6725 - val_accuracy: 0.6118\n",
      "Epoch 4/20\n",
      "11/11 [==============================] - 0s 3ms/step - loss: 0.6736 - accuracy: 0.6676 - val_loss: 0.6675 - val_accuracy: 0.6824\n",
      "Epoch 5/20\n",
      "11/11 [==============================] - 0s 3ms/step - loss: 0.6679 - accuracy: 0.7118 - val_loss: 0.6639 - val_accuracy: 0.7647\n",
      "Epoch 6/20\n",
      "11/11 [==============================] - 0s 3ms/step - loss: 0.6604 - accuracy: 0.7559 - val_loss: 0.6575 - val_accuracy: 0.7529\n",
      "Epoch 7/20\n",
      "11/11 [==============================] - 0s 3ms/step - loss: 0.6521 - accuracy: 0.7529 - val_loss: 0.6485 - val_accuracy: 0.7765\n",
      "Epoch 8/20\n",
      "11/11 [==============================] - 0s 3ms/step - loss: 0.6431 - accuracy: 0.7441 - val_loss: 0.6381 - val_accuracy: 0.7647\n",
      "Epoch 9/20\n",
      "11/11 [==============================] - 0s 3ms/step - loss: 0.6335 - accuracy: 0.7559 - val_loss: 0.6292 - val_accuracy: 0.7529\n",
      "Epoch 10/20\n",
      "11/11 [==============================] - 0s 3ms/step - loss: 0.6235 - accuracy: 0.7471 - val_loss: 0.6197 - val_accuracy: 0.7529\n",
      "Epoch 11/20\n",
      "11/11 [==============================] - 0s 3ms/step - loss: 0.6137 - accuracy: 0.7618 - val_loss: 0.6143 - val_accuracy: 0.7765\n",
      "Epoch 12/20\n",
      "11/11 [==============================] - 0s 3ms/step - loss: 0.6037 - accuracy: 0.7647 - val_loss: 0.6028 - val_accuracy: 0.7529\n",
      "Epoch 13/20\n",
      "11/11 [==============================] - 0s 3ms/step - loss: 0.5937 - accuracy: 0.7618 - val_loss: 0.5938 - val_accuracy: 0.7529\n",
      "Epoch 14/20\n",
      "11/11 [==============================] - 0s 3ms/step - loss: 0.5842 - accuracy: 0.7588 - val_loss: 0.5856 - val_accuracy: 0.7647\n",
      "Epoch 15/20\n",
      "11/11 [==============================] - 0s 3ms/step - loss: 0.5748 - accuracy: 0.7559 - val_loss: 0.5763 - val_accuracy: 0.7647\n",
      "Epoch 16/20\n",
      "11/11 [==============================] - 0s 3ms/step - loss: 0.5660 - accuracy: 0.7647 - val_loss: 0.5698 - val_accuracy: 0.7765\n",
      "Epoch 17/20\n",
      "11/11 [==============================] - 0s 3ms/step - loss: 0.5574 - accuracy: 0.7676 - val_loss: 0.5594 - val_accuracy: 0.7529\n",
      "Epoch 18/20\n",
      "11/11 [==============================] - 0s 3ms/step - loss: 0.5504 - accuracy: 0.7588 - val_loss: 0.5525 - val_accuracy: 0.7647\n",
      "Epoch 19/20\n",
      "11/11 [==============================] - 0s 3ms/step - loss: 0.5436 - accuracy: 0.7588 - val_loss: 0.5451 - val_accuracy: 0.7529\n",
      "Epoch 20/20\n",
      "11/11 [==============================] - 0s 3ms/step - loss: 0.5372 - accuracy: 0.7676 - val_loss: 0.5403 - val_accuracy: 0.7765\n"
     ]
    }
   ],
   "source": [
    "history = model.fit(np.array(x_train), np.array(y_train), epochs = 20,\n",
    "                   validation_data=(np.array(x_test), np.array(y_test)))"
   ]
  },
  {
   "cell_type": "code",
   "execution_count": 21,
   "id": "dac7151e",
   "metadata": {
    "ExecuteTime": {
     "end_time": "2022-01-25T01:50:12.662577Z",
     "start_time": "2022-01-25T01:50:12.514452Z"
    }
   },
   "outputs": [
    {
     "data": {
      "text/plain": [
       "array([[0.23731071],\n",
       "       [0.42354694],\n",
       "       [0.40749246],\n",
       "       [0.35587835],\n",
       "       [0.26448107],\n",
       "       [0.5057236 ],\n",
       "       [0.77413595],\n",
       "       [0.30595428],\n",
       "       [0.3941997 ],\n",
       "       [0.8160178 ],\n",
       "       [0.4797953 ],\n",
       "       [0.35780832],\n",
       "       [0.6529759 ],\n",
       "       [0.557157  ],\n",
       "       [0.5930816 ],\n",
       "       [0.5369498 ],\n",
       "       [0.6827873 ],\n",
       "       [0.48575374],\n",
       "       [0.7097428 ],\n",
       "       [0.65405774],\n",
       "       [0.548042  ],\n",
       "       [0.5344688 ],\n",
       "       [0.38290945],\n",
       "       [0.5344935 ],\n",
       "       [0.20356837],\n",
       "       [0.21400851],\n",
       "       [0.5335203 ],\n",
       "       [0.70986843],\n",
       "       [0.81054205],\n",
       "       [0.55450124],\n",
       "       [0.62947226],\n",
       "       [0.40932283],\n",
       "       [0.5998349 ],\n",
       "       [0.5780826 ],\n",
       "       [0.36650556],\n",
       "       [0.60093784],\n",
       "       [0.82794523],\n",
       "       [0.4184686 ],\n",
       "       [0.28248796],\n",
       "       [0.6839514 ],\n",
       "       [0.67701995],\n",
       "       [0.48480105],\n",
       "       [0.7747107 ],\n",
       "       [0.21880758],\n",
       "       [0.30481312],\n",
       "       [0.7628637 ],\n",
       "       [0.48709714],\n",
       "       [0.49995384],\n",
       "       [0.32956243],\n",
       "       [0.62718755],\n",
       "       [0.7003273 ],\n",
       "       [0.4452393 ],\n",
       "       [0.6314545 ],\n",
       "       [0.45992136],\n",
       "       [0.7890229 ],\n",
       "       [0.31946683],\n",
       "       [0.20737198],\n",
       "       [0.6839514 ],\n",
       "       [0.37190372],\n",
       "       [0.7285993 ],\n",
       "       [0.2519887 ],\n",
       "       [0.4259121 ],\n",
       "       [0.8201677 ],\n",
       "       [0.5840578 ],\n",
       "       [0.27148294],\n",
       "       [0.42804104],\n",
       "       [0.78703   ],\n",
       "       [0.2979978 ],\n",
       "       [0.43228436],\n",
       "       [0.64183754],\n",
       "       [0.6344761 ],\n",
       "       [0.5629151 ],\n",
       "       [0.82725585],\n",
       "       [0.46602356],\n",
       "       [0.60937315],\n",
       "       [0.42861602],\n",
       "       [0.8120844 ],\n",
       "       [0.5824647 ],\n",
       "       [0.4353368 ],\n",
       "       [0.64210737],\n",
       "       [0.5520836 ],\n",
       "       [0.5683695 ],\n",
       "       [0.21850038],\n",
       "       [0.75880647],\n",
       "       [0.67313755]], dtype=float32)"
      ]
     },
     "execution_count": 21,
     "metadata": {},
     "output_type": "execute_result"
    }
   ],
   "source": [
    "# model.predict([[750,3.2,3],[500,3.8,1]])\n",
    "model.predict(x_test)"
   ]
  },
  {
   "cell_type": "code",
   "execution_count": 22,
   "id": "3501ad68",
   "metadata": {
    "ExecuteTime": {
     "end_time": "2022-01-25T01:50:17.885163Z",
     "start_time": "2022-01-25T01:50:15.742359Z"
    }
   },
   "outputs": [
    {
     "data": {
      "image/png": "[encoded data removed]",
      "text/plain": [
       "<IPython.core.display.Image object>"
      ]
     },
     "execution_count": 22,
     "metadata": {},
     "output_type": "execute_result"
    }
   ],
   "source": [
    "from tensorflow.keras.utils import plot_model\n",
    "plot_model(model, show_shapes=True)"
   ]
  },
  {
   "cell_type": "code",
   "execution_count": 23,
   "id": "48443b9f",
   "metadata": {
    "ExecuteTime": {
     "end_time": "2022-01-25T01:50:20.137387Z",
     "start_time": "2022-01-25T01:50:20.121884Z"
    }
   },
   "outputs": [
    {
     "name": "stdout",
     "output_type": "stream",
     "text": [
      "Model: \"sequential_1\"\n",
      "_________________________________________________________________\n",
      "Layer (type)                 Output Shape              Param #   \n",
      "=================================================================\n",
      "dense_3 (Dense)              (None, 3)                 12        \n",
      "_________________________________________________________________\n",
      "dense_4 (Dense)              (None, 128)               512       \n",
      "_________________________________________________________________\n",
      "dense_5 (Dense)              (None, 1)                 129       \n",
      "=================================================================\n",
      "Total params: 653\n",
      "Trainable params: 653\n",
      "Non-trainable params: 0\n",
      "_________________________________________________________________\n"
     ]
    }
   ],
   "source": [
    "model.summary()"
   ]
  },
  {
   "cell_type": "code",
   "execution_count": 24,
   "id": "e122427c",
   "metadata": {
    "ExecuteTime": {
     "end_time": "2022-01-25T01:50:21.978474Z",
     "start_time": "2022-01-25T01:50:21.706195Z"
    }
   },
   "outputs": [
    {
     "data": {
      "image/png": "[encoded data removed]",
      "text/plain": [
       "<Figure size 576x576 with 1 Axes>"
      ]
     },
     "metadata": {
      "needs_background": "light"
     },
     "output_type": "display_data"
    }
   ],
   "source": [
    "train_history = history.history[\"loss\"]\n",
    "validation_history = history.history[\"val_loss\"]\n",
    "fig = plt.figure(figsize=(8, 8))\n",
    "plt.title(\"Loss History\")\n",
    "plt.xlabel(\"EPOCH\")\n",
    "plt.ylabel(\"LOSS Function\")\n",
    "plt.plot(train_history, \"red\")\n",
    "plt.plot(validation_history, 'blue')\n",
    "plt.show()"
   ]
  },
  {
   "cell_type": "code",
   "execution_count": null,
   "id": "7a6ac1ad",
   "metadata": {},
   "outputs": [],
   "source": []
  }
 ],
 "metadata": {
  "kernelspec": {
   "display_name": "Python 3 (ipykernel)",
   "language": "python",
   "name": "python3"
  },
  "language_info": {
   "codemirror_mode": {
    "name": "ipython",
    "version": 3
   },
   "file_extension": ".py",
   "mimetype": "text/x-python",
   "name": "python",
   "nbconvert_exporter": "python",
   "pygments_lexer": "ipython3",
   "version": "3.8.12"
  },
  "toc": {
   "base_numbering": 1,
   "nav_menu": {},
   "number_sections": true,
   "sideBar": true,
   "skip_h1_title": false,
   "title_cell": "Table of Contents",
   "title_sidebar": "Contents",
   "toc_cell": false,
   "toc_position": {},
   "toc_section_display": true,
   "toc_window_display": false
  },
  "varInspector": {
   "cols": {
    "lenName": 16,
    "lenType": 16,
    "lenVar": 40
   },
   "kernels_config": {
    "python": {
     "delete_cmd_postfix": "",
     "delete_cmd_prefix": "del ",
     "library": "var_list.py",
     "varRefreshCmd": "print(var_dic_list())"
    },
    "r": {
     "delete_cmd_postfix": ") ",
     "delete_cmd_prefix": "rm(",
     "library": "var_list.r",
     "varRefreshCmd": "cat(var_dic_list()) "
    }
   },
   "types_to_exclude": [
    "module",
    "function",
    "builtin_function_or_method",
    "instance",
    "_Feature"
   ],
   "window_display": false
  }
 },
 "nbformat": 4,
 "nbformat_minor": 5
}
